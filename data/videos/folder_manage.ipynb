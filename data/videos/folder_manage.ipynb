{
 "cells": [
  {
   "cell_type": "code",
   "execution_count": 1,
   "metadata": {
    "collapsed": true
   },
   "outputs": [],
   "source": [
    "import glob\n",
    "import os\n",
    "import re\n",
    "import shutil\n",
    "os.chdir('/nxbdd/data/')"
   ]
  },
  {
   "cell_type": "code",
   "execution_count": null,
   "metadata": {
    "collapsed": false
   },
   "outputs": [
    {
     "name": "stdout",
     "output_type": "stream",
     "text": [
      "0001\n",
      "0002\n",
      "0003\n",
      "0004\n",
      "0005\n",
      "0006\n",
      "0007\n",
      "0008\n",
      "0009\n",
      "0010\n",
      "0011\n",
      "0012\n",
      "0013\n",
      "0014\n",
      "0015\n",
      "0016\n",
      "0017\n",
      "0018\n",
      "0019\n",
      "0020\n",
      "0021\n",
      "0022\n",
      "0023\n",
      "0024\n",
      "0025\n",
      "0026\n",
      "0027\n"
     ]
    }
   ],
   "source": [
    "dir_name=os.listdir('./')\n",
    "for root in sorted(dir_name):\n",
    "    if re.match('\\d\\d\\d\\d',root):\n",
    "        print root\n",
    "        image = sorted(glob.glob(root+'/*.jpg'))\n",
    "        assert(len(image)!=0)\n",
    "        num = len(image)/150;\n",
    "        if num != 0:\n",
    "            for i in xrange(0,num):\n",
    "                #print i+1\n",
    "                path_old = './' + root + '/seg'+str(i+1).zfill(3)\n",
    "                path = './' + root + '/seg'+str(i+1).zfill(3)\n",
    "                if os.path.exists(path_old):\n",
    "                    shutil.rmtree(path_old)\n",
    "                os.mkdir(path)\n",
    "                im1 = image[max(i*150,0):min(i*150+300,len(image))]\n",
    "                for im in im1:\n",
    "                    src = os.path.join(im)\n",
    "                    shutil.copy(src,path)                                \n",
    "        \n",
    "    #break"
   ]
  },
  {
   "cell_type": "code",
   "execution_count": null,
   "metadata": {
    "collapsed": false
   },
   "outputs": [],
   "source": [
    "pwd"
   ]
  },
  {
   "cell_type": "code",
   "execution_count": null,
   "metadata": {
    "collapsed": false
   },
   "outputs": [],
   "source": [
    "t = glob.glob('*.txt')\n",
    "print(t[0:2])"
   ]
  },
  {
   "cell_type": "code",
   "execution_count": null,
   "metadata": {
    "collapsed": true
   },
   "outputs": [],
   "source": []
  }
 ],
 "metadata": {
  "kernelspec": {
   "display_name": "Python [Root]",
   "language": "python",
   "name": "Python [Root]"
  },
  "language_info": {
   "codemirror_mode": {
    "name": "ipython",
    "version": 2
   },
   "file_extension": ".py",
   "mimetype": "text/x-python",
   "name": "python",
   "nbconvert_exporter": "python",
   "pygments_lexer": "ipython2",
   "version": "2.7.12"
  }
 },
 "nbformat": 4,
 "nbformat_minor": 0
}
